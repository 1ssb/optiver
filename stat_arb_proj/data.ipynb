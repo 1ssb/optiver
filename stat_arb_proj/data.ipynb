{
 "cells": [
  {
   "cell_type": "code",
   "execution_count": 30,
   "metadata": {},
   "outputs": [
    {
     "name": "stdout",
     "output_type": "stream",
     "text": [
      "Defaulting to user installation because normal site-packages is not writeable\n",
      "Requirement already satisfied: pip in /Users/1ssb/Library/Python/3.9/lib/python/site-packages (24.3.1)\n",
      "Defaulting to user installation because normal site-packages is not writeable\n",
      "Requirement already satisfied: pandas in /Users/1ssb/Library/Python/3.9/lib/python/site-packages (2.2.3)\n",
      "Requirement already satisfied: matplotlib in /Users/1ssb/Library/Python/3.9/lib/python/site-packages (3.9.0)\n",
      "Requirement already satisfied: numpy in /Users/1ssb/Library/Python/3.9/lib/python/site-packages (1.26.4)\n",
      "Requirement already satisfied: scikit-learn in /Users/1ssb/Library/Python/3.9/lib/python/site-packages (1.6.0)\n",
      "Requirement already satisfied: statsmodels in /Users/1ssb/Library/Python/3.9/lib/python/site-packages (0.14.4)\n",
      "Requirement already satisfied: pyarrow in /Users/1ssb/Library/Python/3.9/lib/python/site-packages (18.1.0)\n",
      "Requirement already satisfied: python-dateutil>=2.8.2 in /Users/1ssb/Library/Python/3.9/lib/python/site-packages (from pandas) (2.9.0.post0)\n",
      "Requirement already satisfied: pytz>=2020.1 in /Users/1ssb/Library/Python/3.9/lib/python/site-packages (from pandas) (2024.2)\n",
      "Requirement already satisfied: tzdata>=2022.7 in /Users/1ssb/Library/Python/3.9/lib/python/site-packages (from pandas) (2024.2)\n",
      "Requirement already satisfied: contourpy>=1.0.1 in /Users/1ssb/Library/Python/3.9/lib/python/site-packages (from matplotlib) (1.2.1)\n",
      "Requirement already satisfied: cycler>=0.10 in /Users/1ssb/Library/Python/3.9/lib/python/site-packages (from matplotlib) (0.12.1)\n",
      "Requirement already satisfied: fonttools>=4.22.0 in /Users/1ssb/Library/Python/3.9/lib/python/site-packages (from matplotlib) (4.53.0)\n",
      "Requirement already satisfied: kiwisolver>=1.3.1 in /Users/1ssb/Library/Python/3.9/lib/python/site-packages (from matplotlib) (1.4.5)\n",
      "Requirement already satisfied: packaging>=20.0 in /Users/1ssb/Library/Python/3.9/lib/python/site-packages (from matplotlib) (24.1)\n",
      "Requirement already satisfied: pillow>=8 in /Users/1ssb/Library/Python/3.9/lib/python/site-packages (from matplotlib) (10.3.0)\n",
      "Requirement already satisfied: pyparsing>=2.3.1 in /Users/1ssb/Library/Python/3.9/lib/python/site-packages (from matplotlib) (3.1.2)\n",
      "Requirement already satisfied: importlib-resources>=3.2.0 in /Users/1ssb/Library/Python/3.9/lib/python/site-packages (from matplotlib) (6.4.0)\n",
      "Requirement already satisfied: scipy>=1.6.0 in /Users/1ssb/Library/Python/3.9/lib/python/site-packages (from scikit-learn) (1.13.1)\n",
      "Requirement already satisfied: joblib>=1.2.0 in /Users/1ssb/Library/Python/3.9/lib/python/site-packages (from scikit-learn) (1.4.2)\n",
      "Requirement already satisfied: threadpoolctl>=3.1.0 in /Users/1ssb/Library/Python/3.9/lib/python/site-packages (from scikit-learn) (3.5.0)\n",
      "Requirement already satisfied: patsy>=0.5.6 in /Users/1ssb/Library/Python/3.9/lib/python/site-packages (from statsmodels) (1.0.1)\n",
      "Requirement already satisfied: zipp>=3.1.0 in /Users/1ssb/Library/Python/3.9/lib/python/site-packages (from importlib-resources>=3.2.0->matplotlib) (3.19.2)\n",
      "Requirement already satisfied: six>=1.5 in /Library/Developer/CommandLineTools/Library/Frameworks/Python3.framework/Versions/3.9/lib/python3.9/site-packages (from python-dateutil>=2.8.2->pandas) (1.15.0)\n"
     ]
    }
   ],
   "source": [
    "!pip install --upgrade pip\n",
    "!pip install pandas matplotlib numpy scikit-learn statsmodels pyarrow"
   ]
  },
  {
   "cell_type": "code",
   "execution_count": 31,
   "metadata": {},
   "outputs": [],
   "source": [
    "import pandas as pd\n",
    "\n",
    "# Load parquet files\n",
    "df1 = pd.read_parquet(\"XHKF_HSIFM.parquet\")\n",
    "df2 = pd.read_parquet(\"XHKF_HHIFM.parquet\")\n",
    "\n",
    "# Reset the index to make TIMESTAMP a column\n",
    "df1.reset_index(inplace=True)\n",
    "df2.reset_index(inplace=True)\n",
    "\n",
    "# Convert TIMESTAMP to datetime and localize to Asia/Hong_Kong\n",
    "df1['TIMESTAMP'] = pd.to_datetime(df1['TIMESTAMP']).dt.tz_convert('Asia/Hong_Kong')\n",
    "df2['TIMESTAMP'] = pd.to_datetime(df2['TIMESTAMP']).dt.tz_convert('Asia/Hong_Kong')\n",
    "\n",
    "# Set TIMESTAMP back as the index\n",
    "df1.set_index('TIMESTAMP', inplace=True)\n",
    "df2.set_index('TIMESTAMP', inplace=True)"
   ]
  },
  {
   "cell_type": "code",
   "execution_count": 32,
   "metadata": {},
   "outputs": [
    {
     "data": {
      "text/plain": [
       "(700676, 10)"
      ]
     },
     "execution_count": 32,
     "metadata": {},
     "output_type": "execute_result"
    }
   ],
   "source": [
    "# Filter rows where STATUS == 'Open'\n",
    "df1 = df1[df1['STATUS'] == 'Open']\n",
    "df2 = df2[df2['STATUS'] == 'Open']\n",
    "\n",
    "df1.shape"
   ]
  },
  {
   "cell_type": "code",
   "execution_count": 33,
   "metadata": {},
   "outputs": [
    {
     "data": {
      "text/plain": [
       "(700728, 10)"
      ]
     },
     "execution_count": 33,
     "metadata": {},
     "output_type": "execute_result"
    }
   ],
   "source": [
    "df2.shape"
   ]
  },
  {
   "cell_type": "code",
   "execution_count": 34,
   "metadata": {},
   "outputs": [
    {
     "name": "stdout",
     "output_type": "stream",
     "text": [
      "Timestamps only in df1 (0 cases):\n",
      "\n",
      "Timestamps only in df2 (52 cases):\n",
      "2022-01-06 12:01:00+08:00\n",
      "2022-01-06 12:02:00+08:00\n",
      "2022-01-06 12:03:00+08:00\n",
      "2022-01-06 12:04:00+08:00\n",
      "2022-01-06 12:05:00+08:00\n",
      "2022-01-06 12:06:00+08:00\n",
      "2022-01-06 12:07:00+08:00\n",
      "2022-01-06 12:08:00+08:00\n",
      "2022-01-06 12:09:00+08:00\n",
      "2022-01-06 12:10:00+08:00\n",
      "2022-01-06 12:11:00+08:00\n",
      "2022-01-06 12:12:00+08:00\n",
      "2022-01-06 12:13:00+08:00\n",
      "2022-01-06 12:14:00+08:00\n",
      "2022-01-06 12:15:00+08:00\n",
      "2022-01-06 12:16:00+08:00\n",
      "2022-01-06 12:17:00+08:00\n",
      "2022-01-06 12:18:00+08:00\n",
      "2022-01-06 12:19:00+08:00\n",
      "2022-01-06 12:20:00+08:00\n",
      "2022-01-06 12:21:00+08:00\n",
      "2022-01-06 12:22:00+08:00\n",
      "2022-01-06 12:23:00+08:00\n",
      "2022-01-06 12:24:00+08:00\n",
      "2022-01-06 12:25:00+08:00\n",
      "2022-01-06 12:26:00+08:00\n",
      "2022-01-06 12:27:00+08:00\n",
      "2022-01-06 12:28:00+08:00\n",
      "2022-01-06 12:29:00+08:00\n",
      "2022-01-06 12:30:00+08:00\n",
      "2022-01-06 12:31:00+08:00\n",
      "2022-01-06 12:32:00+08:00\n",
      "2022-01-06 12:33:00+08:00\n",
      "2022-01-06 12:34:00+08:00\n",
      "2022-01-06 12:35:00+08:00\n",
      "2022-01-06 12:36:00+08:00\n",
      "2022-01-06 12:37:00+08:00\n",
      "2022-01-06 12:38:00+08:00\n",
      "2022-01-06 12:39:00+08:00\n",
      "2022-01-06 12:40:00+08:00\n",
      "2022-01-06 12:41:00+08:00\n",
      "2022-01-06 12:42:00+08:00\n",
      "2022-01-06 12:43:00+08:00\n",
      "2022-01-06 12:44:00+08:00\n",
      "2022-01-06 12:45:00+08:00\n",
      "2022-01-06 12:46:00+08:00\n",
      "2022-01-06 12:47:00+08:00\n",
      "2022-01-06 12:48:00+08:00\n",
      "2022-01-06 12:49:00+08:00\n",
      "2022-01-06 12:50:00+08:00\n",
      "2022-01-06 12:51:00+08:00\n",
      "2022-01-06 12:52:00+08:00\n"
     ]
    }
   ],
   "source": [
    "# Find common and mismatched timestamps\n",
    "timestamps_df1 = set(df1.index)\n",
    "timestamps_df2 = set(df2.index)\n",
    "\n",
    "# Timestamps present in df1 but not in df2\n",
    "only_in_df1 = sorted(timestamps_df1 - timestamps_df2)\n",
    "\n",
    "# Timestamps present in df2 but not in df1\n",
    "only_in_df2 = sorted(timestamps_df2 - timestamps_df1)\n",
    "\n",
    "# Print results\n",
    "print(f\"Timestamps only in df1 ({len(only_in_df1)} cases):\")\n",
    "for ts in only_in_df1:\n",
    "    print(ts)\n",
    "\n",
    "print(f\"\\nTimestamps only in df2 ({len(only_in_df2)} cases):\")\n",
    "for ts in only_in_df2:\n",
    "    print(ts)"
   ]
  },
  {
   "cell_type": "code",
   "execution_count": 35,
   "metadata": {},
   "outputs": [
    {
     "data": {
      "text/plain": [
       "MIC                    XHKF\n",
       "FEEDCODE              HHIF2\n",
       "STATUS                 Open\n",
       "LAST_PRICE              NaN\n",
       "TURNOVER_VALUE          0.0\n",
       "TURNOVER_VOLUME         0.0\n",
       "LAST_BID_PRICE_0     7992.0\n",
       "LAST_ASK_PRICE_0     7992.0\n",
       "LAST_BID_VOLUME_0       8.0\n",
       "LAST_ASK_VOLUME_0       8.0\n",
       "Name: 2022-01-06 12:52:00+08:00, dtype: object"
      ]
     },
     "execution_count": 35,
     "metadata": {},
     "output_type": "execute_result"
    }
   ],
   "source": [
    "df2.loc[\"2022-01-06 12:52:00+08:00\"]"
   ]
  },
  {
   "cell_type": "code",
   "execution_count": 37,
   "metadata": {},
   "outputs": [],
   "source": [
    "# Drop rows with NaN values in any column for both DataFrames\n",
    "df1 = df1.dropna()\n",
    "df2 = df2.dropna()"
   ]
  },
  {
   "cell_type": "code",
   "execution_count": 38,
   "metadata": {},
   "outputs": [
    {
     "data": {
      "text/plain": [
       "(694801, 10)"
      ]
     },
     "execution_count": 38,
     "metadata": {},
     "output_type": "execute_result"
    }
   ],
   "source": [
    "df1.shape"
   ]
  },
  {
   "cell_type": "code",
   "execution_count": 39,
   "metadata": {},
   "outputs": [
    {
     "data": {
      "text/plain": [
       "(686323, 10)"
      ]
     },
     "execution_count": 39,
     "metadata": {},
     "output_type": "execute_result"
    }
   ],
   "source": [
    "df2.shape"
   ]
  },
  {
   "cell_type": "code",
   "execution_count": 51,
   "metadata": {},
   "outputs": [
    {
     "data": {
      "text/html": [
       "<div>\n",
       "<style scoped>\n",
       "    .dataframe tbody tr th:only-of-type {\n",
       "        vertical-align: middle;\n",
       "    }\n",
       "\n",
       "    .dataframe tbody tr th {\n",
       "        vertical-align: top;\n",
       "    }\n",
       "\n",
       "    .dataframe thead th {\n",
       "        text-align: right;\n",
       "    }\n",
       "</style>\n",
       "<table border=\"1\" class=\"dataframe\">\n",
       "  <thead>\n",
       "    <tr style=\"text-align: right;\">\n",
       "      <th></th>\n",
       "      <th>MIC</th>\n",
       "      <th>FEEDCODE</th>\n",
       "      <th>STATUS</th>\n",
       "      <th>LAST_PRICE</th>\n",
       "      <th>TURNOVER_VALUE</th>\n",
       "      <th>TURNOVER_VOLUME</th>\n",
       "      <th>LAST_BID_PRICE_0</th>\n",
       "      <th>LAST_ASK_PRICE_0</th>\n",
       "      <th>LAST_BID_VOLUME_0</th>\n",
       "      <th>LAST_ASK_VOLUME_0</th>\n",
       "    </tr>\n",
       "    <tr>\n",
       "      <th>TIMESTAMP</th>\n",
       "      <th></th>\n",
       "      <th></th>\n",
       "      <th></th>\n",
       "      <th></th>\n",
       "      <th></th>\n",
       "      <th></th>\n",
       "      <th></th>\n",
       "      <th></th>\n",
       "      <th></th>\n",
       "      <th></th>\n",
       "    </tr>\n",
       "  </thead>\n",
       "  <tbody>\n",
       "    <tr>\n",
       "      <th>2021-01-04 09:16:00+08:00</th>\n",
       "      <td>XHKF</td>\n",
       "      <td>HHIF1</td>\n",
       "      <td>Open</td>\n",
       "      <td>10660.0</td>\n",
       "      <td>381306150.0</td>\n",
       "      <td>715.0</td>\n",
       "      <td>10659.0</td>\n",
       "      <td>10661.0</td>\n",
       "      <td>5.0</td>\n",
       "      <td>2.0</td>\n",
       "    </tr>\n",
       "    <tr>\n",
       "      <th>2021-01-04 09:17:00+08:00</th>\n",
       "      <td>XHKF</td>\n",
       "      <td>HHIF1</td>\n",
       "      <td>Open</td>\n",
       "      <td>10661.0</td>\n",
       "      <td>181147800.0</td>\n",
       "      <td>340.0</td>\n",
       "      <td>10660.0</td>\n",
       "      <td>10662.0</td>\n",
       "      <td>3.0</td>\n",
       "      <td>3.0</td>\n",
       "    </tr>\n",
       "    <tr>\n",
       "      <th>2021-01-04 09:18:00+08:00</th>\n",
       "      <td>XHKF</td>\n",
       "      <td>HHIF1</td>\n",
       "      <td>Open</td>\n",
       "      <td>10659.0</td>\n",
       "      <td>114089550.0</td>\n",
       "      <td>214.0</td>\n",
       "      <td>10658.0</td>\n",
       "      <td>10660.0</td>\n",
       "      <td>6.0</td>\n",
       "      <td>3.0</td>\n",
       "    </tr>\n",
       "    <tr>\n",
       "      <th>2021-01-04 09:19:00+08:00</th>\n",
       "      <td>XHKF</td>\n",
       "      <td>HHIF1</td>\n",
       "      <td>Open</td>\n",
       "      <td>10654.0</td>\n",
       "      <td>111394150.0</td>\n",
       "      <td>209.0</td>\n",
       "      <td>10654.0</td>\n",
       "      <td>10655.0</td>\n",
       "      <td>1.0</td>\n",
       "      <td>2.0</td>\n",
       "    </tr>\n",
       "    <tr>\n",
       "      <th>2021-01-04 09:20:00+08:00</th>\n",
       "      <td>XHKF</td>\n",
       "      <td>HHIF1</td>\n",
       "      <td>Open</td>\n",
       "      <td>10660.0</td>\n",
       "      <td>133737400.0</td>\n",
       "      <td>251.0</td>\n",
       "      <td>10658.0</td>\n",
       "      <td>10660.0</td>\n",
       "      <td>12.0</td>\n",
       "      <td>2.0</td>\n",
       "    </tr>\n",
       "    <tr>\n",
       "      <th>...</th>\n",
       "      <td>...</td>\n",
       "      <td>...</td>\n",
       "      <td>...</td>\n",
       "      <td>...</td>\n",
       "      <td>...</td>\n",
       "      <td>...</td>\n",
       "      <td>...</td>\n",
       "      <td>...</td>\n",
       "      <td>...</td>\n",
       "      <td>...</td>\n",
       "    </tr>\n",
       "    <tr>\n",
       "      <th>2023-12-30 02:56:00+08:00</th>\n",
       "      <td>XHKF</td>\n",
       "      <td>HHIF4</td>\n",
       "      <td>Open</td>\n",
       "      <td>5814.0</td>\n",
       "      <td>10753750.0</td>\n",
       "      <td>37.0</td>\n",
       "      <td>5814.0</td>\n",
       "      <td>5815.0</td>\n",
       "      <td>13.0</td>\n",
       "      <td>53.0</td>\n",
       "    </tr>\n",
       "    <tr>\n",
       "      <th>2023-12-30 02:57:00+08:00</th>\n",
       "      <td>XHKF</td>\n",
       "      <td>HHIF4</td>\n",
       "      <td>Open</td>\n",
       "      <td>5814.0</td>\n",
       "      <td>1453500.0</td>\n",
       "      <td>5.0</td>\n",
       "      <td>5814.0</td>\n",
       "      <td>5815.0</td>\n",
       "      <td>13.0</td>\n",
       "      <td>65.0</td>\n",
       "    </tr>\n",
       "    <tr>\n",
       "      <th>2023-12-30 02:58:00+08:00</th>\n",
       "      <td>XHKF</td>\n",
       "      <td>HHIF4</td>\n",
       "      <td>Open</td>\n",
       "      <td>5815.0</td>\n",
       "      <td>18898500.0</td>\n",
       "      <td>65.0</td>\n",
       "      <td>5815.0</td>\n",
       "      <td>5816.0</td>\n",
       "      <td>12.0</td>\n",
       "      <td>13.0</td>\n",
       "    </tr>\n",
       "    <tr>\n",
       "      <th>2023-12-30 02:59:00+08:00</th>\n",
       "      <td>XHKF</td>\n",
       "      <td>HHIF4</td>\n",
       "      <td>Open</td>\n",
       "      <td>5815.0</td>\n",
       "      <td>8431550.0</td>\n",
       "      <td>29.0</td>\n",
       "      <td>5814.0</td>\n",
       "      <td>5816.0</td>\n",
       "      <td>15.0</td>\n",
       "      <td>9.0</td>\n",
       "    </tr>\n",
       "    <tr>\n",
       "      <th>2023-12-30 03:00:00+08:00</th>\n",
       "      <td>XHKF</td>\n",
       "      <td>HHIF4</td>\n",
       "      <td>Open</td>\n",
       "      <td>5814.0</td>\n",
       "      <td>5233000.0</td>\n",
       "      <td>18.0</td>\n",
       "      <td>5814.0</td>\n",
       "      <td>5815.0</td>\n",
       "      <td>3.0</td>\n",
       "      <td>1.0</td>\n",
       "    </tr>\n",
       "  </tbody>\n",
       "</table>\n",
       "<p>686323 rows × 10 columns</p>\n",
       "</div>"
      ],
      "text/plain": [
       "                            MIC FEEDCODE STATUS  LAST_PRICE  TURNOVER_VALUE  \\\n",
       "TIMESTAMP                                                                     \n",
       "2021-01-04 09:16:00+08:00  XHKF    HHIF1   Open     10660.0     381306150.0   \n",
       "2021-01-04 09:17:00+08:00  XHKF    HHIF1   Open     10661.0     181147800.0   \n",
       "2021-01-04 09:18:00+08:00  XHKF    HHIF1   Open     10659.0     114089550.0   \n",
       "2021-01-04 09:19:00+08:00  XHKF    HHIF1   Open     10654.0     111394150.0   \n",
       "2021-01-04 09:20:00+08:00  XHKF    HHIF1   Open     10660.0     133737400.0   \n",
       "...                         ...      ...    ...         ...             ...   \n",
       "2023-12-30 02:56:00+08:00  XHKF    HHIF4   Open      5814.0      10753750.0   \n",
       "2023-12-30 02:57:00+08:00  XHKF    HHIF4   Open      5814.0       1453500.0   \n",
       "2023-12-30 02:58:00+08:00  XHKF    HHIF4   Open      5815.0      18898500.0   \n",
       "2023-12-30 02:59:00+08:00  XHKF    HHIF4   Open      5815.0       8431550.0   \n",
       "2023-12-30 03:00:00+08:00  XHKF    HHIF4   Open      5814.0       5233000.0   \n",
       "\n",
       "                           TURNOVER_VOLUME  LAST_BID_PRICE_0  \\\n",
       "TIMESTAMP                                                      \n",
       "2021-01-04 09:16:00+08:00            715.0           10659.0   \n",
       "2021-01-04 09:17:00+08:00            340.0           10660.0   \n",
       "2021-01-04 09:18:00+08:00            214.0           10658.0   \n",
       "2021-01-04 09:19:00+08:00            209.0           10654.0   \n",
       "2021-01-04 09:20:00+08:00            251.0           10658.0   \n",
       "...                                    ...               ...   \n",
       "2023-12-30 02:56:00+08:00             37.0            5814.0   \n",
       "2023-12-30 02:57:00+08:00              5.0            5814.0   \n",
       "2023-12-30 02:58:00+08:00             65.0            5815.0   \n",
       "2023-12-30 02:59:00+08:00             29.0            5814.0   \n",
       "2023-12-30 03:00:00+08:00             18.0            5814.0   \n",
       "\n",
       "                           LAST_ASK_PRICE_0  LAST_BID_VOLUME_0  \\\n",
       "TIMESTAMP                                                        \n",
       "2021-01-04 09:16:00+08:00           10661.0                5.0   \n",
       "2021-01-04 09:17:00+08:00           10662.0                3.0   \n",
       "2021-01-04 09:18:00+08:00           10660.0                6.0   \n",
       "2021-01-04 09:19:00+08:00           10655.0                1.0   \n",
       "2021-01-04 09:20:00+08:00           10660.0               12.0   \n",
       "...                                     ...                ...   \n",
       "2023-12-30 02:56:00+08:00            5815.0               13.0   \n",
       "2023-12-30 02:57:00+08:00            5815.0               13.0   \n",
       "2023-12-30 02:58:00+08:00            5816.0               12.0   \n",
       "2023-12-30 02:59:00+08:00            5816.0               15.0   \n",
       "2023-12-30 03:00:00+08:00            5815.0                3.0   \n",
       "\n",
       "                           LAST_ASK_VOLUME_0  \n",
       "TIMESTAMP                                     \n",
       "2021-01-04 09:16:00+08:00                2.0  \n",
       "2021-01-04 09:17:00+08:00                3.0  \n",
       "2021-01-04 09:18:00+08:00                3.0  \n",
       "2021-01-04 09:19:00+08:00                2.0  \n",
       "2021-01-04 09:20:00+08:00                2.0  \n",
       "...                                      ...  \n",
       "2023-12-30 02:56:00+08:00               53.0  \n",
       "2023-12-30 02:57:00+08:00               65.0  \n",
       "2023-12-30 02:58:00+08:00               13.0  \n",
       "2023-12-30 02:59:00+08:00                9.0  \n",
       "2023-12-30 03:00:00+08:00                1.0  \n",
       "\n",
       "[686323 rows x 10 columns]"
      ]
     },
     "execution_count": 51,
     "metadata": {},
     "output_type": "execute_result"
    }
   ],
   "source": [
    "# Align DataFrames by reindexing to the union of all timestamps\n",
    "common_index = df1.index.union(df2.index)  # Combine all unique timestamps\n",
    "\n",
    "# Reindex both DataFrames\n",
    "df1_aligned = df1.reindex(common_index)\n",
    "df2_aligned = df2.reindex(common_index)\n",
    "df1_aligned.dropna()\n",
    "df2_aligned.dropna()"
   ]
  },
  {
   "cell_type": "code",
   "execution_count": 52,
   "metadata": {},
   "outputs": [
    {
     "name": "stdout",
     "output_type": "stream",
     "text": [
      "df1_aligned shape: (698399, 10)\n",
      "df2_aligned shape: (698399, 10)\n"
     ]
    }
   ],
   "source": [
    "# Print shapes to confirm alignment\n",
    "print(\"df1_aligned shape:\", df1_aligned.shape)\n",
    "print(\"df2_aligned shape:\", df2_aligned.shape)"
   ]
  },
  {
   "cell_type": "code",
   "execution_count": 53,
   "metadata": {},
   "outputs": [
    {
     "name": "stdout",
     "output_type": "stream",
     "text": [
      "Number of rows in df1 after cleaning: 682724\n",
      "Number of rows in df2 after cleaning: 682724\n"
     ]
    }
   ],
   "source": [
    "# Combine indices to ensure alignment\n",
    "common_index = df1_cleaned.index.intersection(df2_cleaned.index)\n",
    "\n",
    "# Filter both DataFrames to keep only common indices\n",
    "df1_cleaned = df1_cleaned.loc[common_index]\n",
    "df2_cleaned = df2_cleaned.loc[common_index]\n",
    "\n",
    "# Remove rows where TURNOVER_VOLUME is negative in either DataFrame\n",
    "df1_cleaned = df1_cleaned[df1_cleaned['TURNOVER_VOLUME'] >= 0]\n",
    "df2_cleaned = df2_cleaned[df2_cleaned['TURNOVER_VOLUME'] >= 0]\n",
    "\n",
    "# Align both DataFrames again after filtering\n",
    "common_index = df1_cleaned.index.intersection(df2_cleaned.index)\n",
    "df1_cleaned = df1_cleaned.loc[common_index]\n",
    "df2_cleaned = df2_cleaned.loc[common_index]\n",
    "\n",
    "# Drop rows with any NaN values in either DataFrame\n",
    "df1_cleaned = df1_cleaned.dropna()\n",
    "df2_cleaned = df2_cleaned.dropna()\n",
    "\n",
    "# Align both DataFrames after dropping NaN\n",
    "common_index = df1_cleaned.index.intersection(df2_cleaned.index)\n",
    "df1_cleaned = df1_cleaned.loc[common_index]\n",
    "df2_cleaned = df2_cleaned.loc[common_index]\n",
    "\n",
    "# Confirm results\n",
    "print(f\"Number of rows in df1 after cleaning: {len(df1_cleaned)}\")\n",
    "print(f\"Number of rows in df2 after cleaning: {len(df2_cleaned)}\")"
   ]
  },
  {
   "cell_type": "code",
   "execution_count": 55,
   "metadata": {},
   "outputs": [
    {
     "name": "stdout",
     "output_type": "stream",
     "text": [
      "Columns in df1_cleaned after dropping specified columns:\n",
      "Index(['LAST_PRICE', 'TURNOVER_VOLUME', 'LAST_BID_PRICE_0', 'LAST_ASK_PRICE_0',\n",
      "       'LAST_BID_VOLUME_0', 'LAST_ASK_VOLUME_0'],\n",
      "      dtype='object')\n",
      "\n",
      "Columns in df2_cleaned after dropping specified columns:\n",
      "Index(['LAST_PRICE', 'TURNOVER_VOLUME', 'LAST_BID_PRICE_0', 'LAST_ASK_PRICE_0',\n",
      "       'LAST_BID_VOLUME_0', 'LAST_ASK_VOLUME_0'],\n",
      "      dtype='object')\n"
     ]
    }
   ],
   "source": [
    "# Drop specified columns from df1_cleaned and df2_cleaned\n",
    "df1_cleaned = df1_cleaned.drop(columns=[\"STATUS\"])\n",
    "df2_cleaned = df2_cleaned.drop(columns=[\"STATUS\"])\n",
    "\n",
    "# Confirm the result\n",
    "print(\"Columns in df1_cleaned after dropping specified columns:\")\n",
    "print(df1_cleaned.columns)\n",
    "\n",
    "print(\"\\nColumns in df2_cleaned after dropping specified columns:\")\n",
    "print(df2_cleaned.columns)\n"
   ]
  },
  {
   "cell_type": "code",
   "execution_count": 56,
   "metadata": {},
   "outputs": [
    {
     "name": "stdout",
     "output_type": "stream",
     "text": [
      "Combined DataFrame columns:\n",
      "Index(['LAST_PRICE_HSI', 'TURNOVER_VOLUME_HSI', 'LAST_BID_PRICE_HSI',\n",
      "       'LAST_ASK_PRICE_HSI', 'LAST_BID_VOLUME_HSI', 'LAST_ASK_VOLUME_HSI',\n",
      "       'LAST_PRICE_HHI', 'TURNOVER_VOLUME_HHI', 'LAST_BID_PRICE_HHI',\n",
      "       'LAST_ASK_PRICE_HHI', 'LAST_BID_VOLUME_HHI', 'LAST_ASK_VOLUME_HHI'],\n",
      "      dtype='object')\n",
      "Combined data saved to 'data.csv'\n"
     ]
    }
   ],
   "source": [
    "# Define a mapping for renaming columns with meaningful names for df1 (HSI)\n",
    "rename_hsi = {\n",
    "    \"LAST_PRICE\": \"LAST_PRICE_HSI\",\n",
    "    \"TURNOVER_VOLUME\": \"TURNOVER_VOLUME_HSI\",\n",
    "    \"LAST_BID_PRICE_0\": \"LAST_BID_PRICE_HSI\",\n",
    "    \"LAST_ASK_PRICE_0\": \"LAST_ASK_PRICE_HSI\",\n",
    "    \"LAST_BID_VOLUME_0\": \"LAST_BID_VOLUME_HSI\",\n",
    "    \"LAST_ASK_VOLUME_0\": \"LAST_ASK_VOLUME_HSI\",\n",
    "}\n",
    "\n",
    "# Define a mapping for renaming columns with meaningful names for df2 (HHI)\n",
    "rename_hhi = {\n",
    "    \"LAST_PRICE\": \"LAST_PRICE_HHI\",\n",
    "    \"TURNOVER_VOLUME\": \"TURNOVER_VOLUME_HHI\",\n",
    "    \"LAST_BID_PRICE_0\": \"LAST_BID_PRICE_HHI\",\n",
    "    \"LAST_ASK_PRICE_0\": \"LAST_ASK_PRICE_HHI\",\n",
    "    \"LAST_BID_VOLUME_0\": \"LAST_BID_VOLUME_HHI\",\n",
    "    \"LAST_ASK_VOLUME_0\": \"LAST_ASK_VOLUME_HHI\",\n",
    "}\n",
    "\n",
    "# Rename columns in both DataFrames\n",
    "df1_cleaned = df1_cleaned.rename(columns=rename_hsi)\n",
    "df2_cleaned = df2_cleaned.rename(columns=rename_hhi)\n",
    "\n",
    "# Combine the two DataFrames into one, aligning on the index\n",
    "combined_df = pd.concat([df1_cleaned, df2_cleaned], axis=1)\n",
    "\n",
    "# Confirm the result\n",
    "print(\"Combined DataFrame columns:\")\n",
    "print(combined_df.columns)\n",
    "\n",
    "# Save the combined DataFrame\n",
    "combined_df.to_csv(\"data.csv\")\n",
    "print(\"Combined data saved to 'data.csv'\")\n"
   ]
  },
  {
   "cell_type": "code",
   "execution_count": 58,
   "metadata": {},
   "outputs": [],
   "source": [
    "df = pd.read_csv('data.csv')"
   ]
  },
  {
   "cell_type": "code",
   "execution_count": 63,
   "metadata": {},
   "outputs": [
    {
     "data": {
      "image/png": "[encoded data removed]",
      "text/plain": [
       "<Figure size 1200x600 with 1 Axes>"
      ]
     },
     "metadata": {},
     "output_type": "display_data"
    }
   ],
   "source": [
    "import matplotlib.pyplot as plt\n",
    "\n",
    "plt.figure(figsize=(12, 6))\n",
    "plt.plot(df.index, df['TURNOVER_VOLUME_HHI'], color='orange', label='Turnover Volume')\n",
    "plt.xlabel('Timestamp')\n",
    "plt.ylabel('Volume')\n",
    "plt.title('Turnover Volume Over Time')\n",
    "plt.legend()\n",
    "plt.grid(True)\n",
    "plt.show()"
   ]
  }
 ],
 "metadata": {
  "kernelspec": {
   "display_name": "Python 3",
   "language": "python",
   "name": "python3"
  },
  "language_info": {
   "codemirror_mode": {
    "name": "ipython",
    "version": 3
   },
   "file_extension": ".py",
   "mimetype": "text/x-python",
   "name": "python",
   "nbconvert_exporter": "python",
   "pygments_lexer": "ipython3",
   "version": "3.9.6"
  }
 },
 "nbformat": 4,
 "nbformat_minor": 2
}
